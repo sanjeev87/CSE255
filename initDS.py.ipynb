{
 "cells": [
  {
   "cell_type": "code",
   "execution_count": 19,
   "metadata": {
    "collapsed": true
   },
   "outputs": [],
   "source": [
    "import pickle\n",
    "import pandas as pd\n",
    "import sys\n",
    "from collections import defaultdict"
   ]
  },
  {
   "cell_type": "code",
   "execution_count": 4,
   "metadata": {
    "collapsed": true
   },
   "outputs": [],
   "source": [
    "path = 'yelp_dataset_challenge_academic_dataset/'\n",
    "file_review = 'yelp_academic_dataset_review.csv'\n",
    "df_review = pd.read_csv(path+file_review)"
   ]
  },
  {
   "cell_type": "code",
   "execution_count": 7,
   "metadata": {
    "collapsed": false
   },
   "outputs": [],
   "source": [
    "file_business = 'yelp_academic_dataset_business.csv'\n",
    "df_business = pd.read_csv(path+file_business)"
   ]
  },
  {
   "cell_type": "code",
   "execution_count": 16,
   "metadata": {
    "collapsed": false
   },
   "outputs": [],
   "source": [
    "business = []\n",
    "for index,row in df_business.iterrows():\n",
    "    if 'Restaurants' in row['categories'] and row['business_id'] not in business:\n",
    "        business.append(row['business_id'])\n"
   ]
  },
  {
   "cell_type": "code",
   "execution_count": null,
   "metadata": {
    "collapsed": false
   },
   "outputs": [],
   "source": [
    "reviews =defaultdict(dict)\n",
    "for index,row in df_review.iterrows():\n",
    "    userId = row['user_id']\n",
    "    reviewText = row['text']\n",
    "    businessId = row['business_id']\n",
    "    if businessId in business:\n",
    "        reviews[userId][businessId] = reviewText"
   ]
  },
  {
   "cell_type": "code",
   "execution_count": 30,
   "metadata": {
    "collapsed": false
   },
   "outputs": [],
   "source": [
    "file_user = 'yelp_academic_dataset_user.csv'\n",
    "df_user = pd.read_csv(path+file_user)"
   ]
  },
  {
   "cell_type": "code",
   "execution_count": 33,
   "metadata": {
    "collapsed": false
   },
   "outputs": [],
   "source": [
    "users = []\n",
    "for index,row in df_user.iterrows():\n",
    "    userId = row['user_id']\n",
    "    if userId in reviews and userId not in users:\n",
    "        users.append(userId)"
   ]
  },
  {
   "cell_type": "code",
   "execution_count": 39,
   "metadata": {
    "collapsed": false
   },
   "outputs": [],
   "source": [
    "# dump using pickle\n",
    "pickle.dump(users, open('users.p','wb'))"
   ]
  },
  {
   "cell_type": "code",
   "execution_count": 41,
   "metadata": {
    "collapsed": true
   },
   "outputs": [],
   "source": [
    "pickle.dump(reviews, open('reviews.p', 'wb'))"
   ]
  },
  {
   "cell_type": "code",
   "execution_count": 42,
   "metadata": {
    "collapsed": true
   },
   "outputs": [],
   "source": [
    "pickle.dump(business, open('business.p', 'wb'))"
   ]
  }
 ],
 "metadata": {
  "kernelspec": {
   "display_name": "Python 2",
   "language": "python",
   "name": "python2"
  },
  "language_info": {
   "codemirror_mode": {
    "name": "ipython",
    "version": 2
   },
   "file_extension": ".py",
   "mimetype": "text/x-python",
   "name": "python",
   "nbconvert_exporter": "python",
   "pygments_lexer": "ipython2",
   "version": "2.7.10"
  }
 },
 "nbformat": 4,
 "nbformat_minor": 0
}
