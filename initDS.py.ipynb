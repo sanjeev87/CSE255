{
 "cells": [
  {
   "cell_type": "code",
   "execution_count": 2,
   "metadata": {
    "collapsed": true
   },
   "outputs": [],
   "source": [
    "import pickle\n",
    "import pandas as pd\n",
    "import sys\n",
    "from collections import defaultdict"
   ]
  },
  {
   "cell_type": "code",
   "execution_count": 4,
   "metadata": {
    "collapsed": false
   },
   "outputs": [],
   "source": [
    "path = 'yelp_dataset_challenge_academic_dataset/'\n",
    "file_review = 'yelp_academic_dataset_review.csv'\n",
    "df_review = pd.read_csv(path+file_review)\n",
    "# df_review"
   ]
  },
  {
   "cell_type": "code",
   "execution_count": 5,
   "metadata": {
    "collapsed": false
   },
   "outputs": [],
   "source": [
    "file_business = 'yelp_academic_dataset_business.csv'\n",
    "df_business = pd.read_csv(path+file_business)"
   ]
  },
  {
   "cell_type": "code",
   "execution_count": 6,
   "metadata": {
    "collapsed": false
   },
   "outputs": [],
   "source": [
    "business = []\n",
    "for index,row in df_business.iterrows():\n",
    "    if 'Restaurants' in row['categories'] and row['business_id'] not in business:\n",
    "        business.append(row['business_id'])\n"
   ]
  },
  {
   "cell_type": "code",
   "execution_count": 7,
   "metadata": {
    "collapsed": false
   },
   "outputs": [],
   "source": [
    "reviews_u_b =defaultdict(dict)\n",
    "ratings_u_b =defaultdict(dict)\n",
    "reviews_u_b_subset = defaultdict(dict)\n",
    "ratings_u_b_subset = defaultdict(dict)\n",
    "reviews_b_u = defaultdict(dict)\n",
    "ratings_b_u = defaultdict(dict)\n",
    "reviews_b_u_subset = defaultdict(dict)\n",
    "ratings_b_u_subset = defaultdict(dict)\n",
    "\n",
    "user_to_avg_rating = defaultdict(float)\n",
    "business_to_avg_rating = defaultdict(float)\n",
    "user_to_rating_count = defaultdict(int)\n",
    "business_to_rating_count = defaultdict(int)\n",
    "\n",
    "count = 0 \n",
    "for index,row in df_review.iterrows():\n",
    "    userId = row['user_id']\n",
    "    reviewText = row['text']\n",
    "    businessId = row['business_id']\n",
    "    stars = row['stars']\n",
    "    if businessId in business:\n",
    "        reviews_u_b[userId][businessId] = reviewText\n",
    "        ratings_u_b[userId][businessId] = stars\n",
    "        reviews_b_u[businessId][userId] = reviewText\n",
    "        ratings_b_u[businessId][userId] = stars\n",
    "        user_to_rating_count[userId] += 1\n",
    "        business_to_rating_count[businessId] += 1\n",
    "        user_to_avg_rating[userId] += stars\n",
    "        business_to_avg_rating[businessId] += stars\n",
    "        \n",
    "        if count < 100000:\n",
    "            reviews_u_b_subset[userId][businessId] = reviewText\n",
    "            ratings_u_b_subset[userId][businessId] = stars\n",
    "            reviews_b_u_subset[businessId][userId] = reviewText\n",
    "            ratings_b_u_subset[businessId][userId] = stars\n",
    "        count += 1\n",
    "\n",
    "for user in user_to_rating_count:\n",
    "    user_to_avg_rating[user] = user_to_avg_rating[user] * 1.0 / user_to_rating_count[user]\n",
    "\n",
    "for business in business_to_rating_count:\n",
    "    business_to_avg_rating[business] = business_to_avg_rating[business] * 1.0 / business_to_rating_count[business]\n",
    "    "
   ]
  },
  {
   "cell_type": "code",
   "execution_count": 13,
   "metadata": {
    "collapsed": false
   },
   "outputs": [],
   "source": [
    "file_user = 'yelp_academic_dataset_user.csv'\n",
    "df_user = pd.read_csv(path+file_user)"
   ]
  },
  {
   "cell_type": "code",
   "execution_count": 16,
   "metadata": {
    "collapsed": false
   },
   "outputs": [],
   "source": [
    "users = []\n",
    "for index,row in df_user.iterrows():\n",
    "    userId = row['user_id']\n",
    "    if userId in reviews_u_b and userId not in users:\n",
    "        users.append(userId)"
   ]
  },
  {
   "cell_type": "code",
   "execution_count": 13,
   "metadata": {
    "collapsed": false
   },
   "outputs": [],
   "source": [
    "# dump using pickle\n",
    "# pickle.dump(users, open('users.p','wb'))\n",
    "pickle.dump(reviews_u_b, open('reviews_u_b.p', 'wb'))\n",
    "pickle.dump(reviews_b_u, open('reviews_b_u.p', 'wb'))\n",
    "pickle.dump(reviews_u_b_subset, open('reviews_u_b_subset.p', 'wb'))\n",
    "pickle.dump(reviews_b_u_subset, open('reviews_b_u_subset.p', 'wb'))\n",
    "pickle.dump(business, open('business.p', 'wb'))\n",
    "pickle.dump(user_to_avg_rating, open('user_to_avg_rating.p', 'wb'))\n",
    "pickle.dump(business_to_avg_rating, open('business_to_avg_rating.p', 'wb'))\n",
    "pickle.dump(ratings_u_b, open('ratings_u_b.p', 'wb'))\n",
    "pickle.dump(ratings_b_u, open('ratings_b_u.p', 'wb'))"
   ]
  },
  {
   "cell_type": "code",
   "execution_count": null,
   "metadata": {
    "collapsed": false
   },
   "outputs": [],
   "source": [
    "# len(reviews_b_u_subset)\n",
    "# len(reviews_b_u)"
   ]
  },
  {
   "cell_type": "code",
   "execution_count": null,
   "metadata": {
    "collapsed": false
   },
   "outputs": [],
   "source": []
  }
 ],
 "metadata": {
  "kernelspec": {
   "display_name": "Python 2",
   "language": "python",
   "name": "python2"
  },
  "language_info": {
   "codemirror_mode": {
    "name": "ipython",
    "version": 2
   },
   "file_extension": ".py",
   "mimetype": "text/x-python",
   "name": "python",
   "nbconvert_exporter": "python",
   "pygments_lexer": "ipython2",
   "version": "2.7.10"
  }
 },
 "nbformat": 4,
 "nbformat_minor": 0
}
