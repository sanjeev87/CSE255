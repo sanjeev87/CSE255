{
 "cells": [
  {
   "cell_type": "code",
   "execution_count": 2,
   "metadata": {
    "collapsed": false
   },
   "outputs": [],
   "source": [
    "import pandas as pd\n",
    "import numpy as np\n",
    "from pandas import Series"
   ]
  },
  {
   "cell_type": "code",
   "execution_count": null,
   "metadata": {
    "collapsed": true
   },
   "outputs": [],
   "source": [
    "path = 'yelp_dataset_challenge_academic_dataset/'\n",
    "file_user = 'yelp_academic_dataset_user.csv'\n",
    "file_review = 'yelp_academic_dataset_review.csv'\n",
    "df_user = pd.read_csv(path+file_user)\n",
    "# df_review = pd.read_csv(path+file_review)"
   ]
  },
  {
   "cell_type": "code",
   "execution_count": 24,
   "metadata": {
    "collapsed": false
   },
   "outputs": [],
   "source": [
    "column_names = df_user.columns\n",
    "mutiple_rows_data = open(\"mutiple_rows_data.csv\", 'w')\n",
    "for index, row in df_user.iterrows():\n",
    "    print_str = \"\"\n",
    "    friends = row['friends'].replace(\"[\",\"\").replace(\"]\",\"\").replace('\\'','').split(\",\")\n",
    "    for col in column_names:\n",
    "        if col == 'friends':\n",
    "            continue\n",
    "        print_str += str(row[col]) + \",\"\n",
    "    \n",
    "    for f in friends:\n",
    "        mutiple_rows_data.write(print_str + str(f) + \"\\n\")\n",
    "mutiple_rows_data.close()\n"
   ]
  },
  {
   "cell_type": "code",
   "execution_count": null,
   "metadata": {
    "collapsed": false
   },
   "outputs": [],
   "source": []
  }
 ],
 "metadata": {
  "kernelspec": {
   "display_name": "Python 2",
   "language": "python",
   "name": "python2"
  },
  "language_info": {
   "codemirror_mode": {
    "name": "ipython",
    "version": 2
   },
   "file_extension": ".py",
   "mimetype": "text/x-python",
   "name": "python",
   "nbconvert_exporter": "python",
   "pygments_lexer": "ipython2",
   "version": "2.7.10"
  }
 },
 "nbformat": 4,
 "nbformat_minor": 0
}
